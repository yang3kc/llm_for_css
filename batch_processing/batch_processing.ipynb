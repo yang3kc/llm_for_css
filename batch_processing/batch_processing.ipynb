{
 "cells": [
  {
   "cell_type": "code",
   "execution_count": 1,
   "metadata": {},
   "outputs": [],
   "source": [
    "from openai import OpenAI\n",
    "import json"
   ]
  },
  {
   "cell_type": "markdown",
   "metadata": {},
   "source": [
    "First, let's initialize the client:"
   ]
  },
  {
   "cell_type": "code",
   "execution_count": 2,
   "metadata": {},
   "outputs": [],
   "source": [
    "client = OpenAI()"
   ]
  },
  {
   "cell_type": "markdown",
   "metadata": {},
   "source": [
    "Here is the list of text messages we want to process:"
   ]
  },
  {
   "cell_type": "code",
   "execution_count": 3,
   "metadata": {},
   "outputs": [],
   "source": [
    "text_messages = [\n",
    "    \"The service here is very good!\",\n",
    "    \"The service here is good.\",\n",
    "    \"The service here is ok.\",\n",
    "    \"The service here is not very good.\",\n",
    "    \"The service here is terrible!\",\n",
    "]"
   ]
  },
  {
   "cell_type": "markdown",
   "metadata": {},
   "source": [
    "Now let's create the batch file.\n",
    "We have some reuseable code for prompts from before."
   ]
  },
  {
   "cell_type": "code",
   "execution_count": 4,
   "metadata": {},
   "outputs": [],
   "source": [
    "system_prompt = \"You are an expert on sentiment analysis. Your job is to evaluate the sentiment of the given text message.\"\n",
    "\n",
    "user_instruction = \"\"\"\n",
    "    Given the following text message: '{text_message}', please evaluate its sentiment by giving a score in the range of -1 to 1, where -1 means negative and 1 means positive.\n",
    "    Also explain why.\n",
    "    \"\"\""
   ]
  },
  {
   "cell_type": "markdown",
   "metadata": {},
   "source": [
    "Let's define the JSON schema for the response. For the batch API, you have to specify the schema manually."
   ]
  },
  {
   "cell_type": "code",
   "execution_count": 5,
   "metadata": {},
   "outputs": [],
   "source": [
    "sentiment_json_schema = {\n",
    "    \"type\": \"object\",\n",
    "    \"title\": \"Sentiment\",\n",
    "    \"required\": [\"score\", \"explanation\"],\n",
    "    \"properties\": {\n",
    "        \"score\": {\n",
    "            \"type\": \"number\",\n",
    "            \"title\": \"Score\",\n",
    "            \"description\": \"Sentiment score in the range of -1 to 1, where -1 means negative and 1 means positive.\",\n",
    "        },\n",
    "        \"explanation\": {\n",
    "            \"type\": \"string\",\n",
    "            \"title\": \"Explanation\",\n",
    "            \"description\": \"Explanation of the sentiment score.\",\n",
    "        },\n",
    "    },\n",
    "    \"additionalProperties\": False,\n",
    "}"
   ]
  },
  {
   "cell_type": "markdown",
   "metadata": {},
   "source": [
    "Let's define the tasks"
   ]
  },
  {
   "cell_type": "code",
   "execution_count": 6,
   "metadata": {},
   "outputs": [],
   "source": [
    "tasks = []\n",
    "for index, text_message in enumerate(text_messages):\n",
    "    task = {\n",
    "        # The API won't return the input text message, so we need a unique ID for each task\n",
    "        # This way we can merge the results back with the input text message\n",
    "        # Instead of generating the ID on the fly, it's recommended to assign a unique ID to each input message at the beginning\n",
    "        \"custom_id\": f\"text_message_{index}\",\n",
    "        \"method\": \"POST\",\n",
    "        \"url\": \"/v1/responses\",\n",
    "        \"body\": {\n",
    "            # This is what you would have in your Chat Completions API call\n",
    "            \"model\": \"gpt-4o-mini\",\n",
    "            \"temperature\": 0.0,\n",
    "            \"instructions\": system_prompt,\n",
    "            \"input\": user_instruction.format(text_message=text_message),\n",
    "            \"text\": {\n",
    "                \"format\": {\n",
    "                    \"type\": \"json_schema\",\n",
    "                    \"name\": \"sentiment\",\n",
    "                    \"strict\": True,\n",
    "                    \"schema\": sentiment_json_schema,\n",
    "                }\n",
    "            },\n",
    "        },\n",
    "    }\n",
    "\n",
    "    tasks.append(task)"
   ]
  },
  {
   "cell_type": "markdown",
   "metadata": {},
   "source": [
    "Now we need to store the results in a file.\n",
    "Each line is a JSON object."
   ]
  },
  {
   "cell_type": "code",
   "execution_count": 7,
   "metadata": {},
   "outputs": [],
   "source": [
    "task_file_name = \"text_message_tasks.jsonl\"\n",
    "with open(task_file_name, \"w\") as f:\n",
    "    for task in tasks:\n",
    "        f.write(json.dumps(task) + \"\\n\")"
   ]
  },
  {
   "cell_type": "markdown",
   "metadata": {},
   "source": [
    "Now we can upload the task file."
   ]
  },
  {
   "cell_type": "code",
   "execution_count": 8,
   "metadata": {},
   "outputs": [],
   "source": [
    "batch_file = client.files.create(\n",
    "    file=open(task_file_name, \"rb\"),\n",
    "    purpose=\"batch\"\n",
    ")"
   ]
  },
  {
   "cell_type": "code",
   "execution_count": 9,
   "metadata": {},
   "outputs": [
    {
     "name": "stdout",
     "output_type": "stream",
     "text": [
      "FileObject(id='file-N8XHkV6uA3UmLxL5b4JgA1', bytes=4846, created_at=1747097239, filename='text_message_tasks.jsonl', object='file', purpose='batch', status='processed', expires_at=None, status_details=None)\n"
     ]
    }
   ],
   "source": [
    "print(batch_file)"
   ]
  },
  {
   "cell_type": "markdown",
   "metadata": {},
   "source": [
    "We need to write the batch file id down.\n",
    "It's used to track the status of the batch later.\n",
    "\n",
    "After this step, you can also view the file at https://platform.openai.com/storage.\n",
    "Be sure to switch the organization/project associated with your API key.\n"
   ]
  },
  {
   "cell_type": "markdown",
   "metadata": {},
   "source": [
    "Now we can create the batch job:"
   ]
  },
  {
   "cell_type": "code",
   "execution_count": 10,
   "metadata": {},
   "outputs": [],
   "source": [
    "batch_job = client.batches.create(\n",
    "    input_file_id=batch_file.id,\n",
    "    endpoint=\"/v1/responses\",\n",
    "    completion_window=\"24h\"\n",
    ")"
   ]
  },
  {
   "cell_type": "markdown",
   "metadata": {},
   "source": [
    "This step can also be done at https://platform.openai.com/batch using the UI."
   ]
  },
  {
   "cell_type": "code",
   "execution_count": 21,
   "metadata": {},
   "outputs": [
    {
     "name": "stdout",
     "output_type": "stream",
     "text": [
      "Batch(id='batch_682296a634348190850d5ffcd04ba83e', completion_window='24h', created_at=1747097254, endpoint='/v1/responses', input_file_id='file-N8XHkV6uA3UmLxL5b4JgA1', object='batch', status='validating', cancelled_at=None, cancelling_at=None, completed_at=None, error_file_id=None, errors=None, expired_at=None, expires_at=1747183654, failed_at=None, finalizing_at=None, in_progress_at=None, metadata=None, output_file_id=None, request_counts=BatchRequestCounts(completed=0, failed=0, total=0))\n"
     ]
    }
   ],
   "source": [
    "print(batch_job)"
   ]
  },
  {
   "cell_type": "markdown",
   "metadata": {},
   "source": [
    "Let's check the status of the batch job"
   ]
  },
  {
   "cell_type": "code",
   "execution_count": 22,
   "metadata": {},
   "outputs": [],
   "source": [
    "batch_object = client.batches.retrieve(batch_job.id)"
   ]
  },
  {
   "cell_type": "code",
   "execution_count": 23,
   "metadata": {},
   "outputs": [
    {
     "data": {
      "text/plain": [
       "'completed'"
      ]
     },
     "execution_count": 23,
     "metadata": {},
     "output_type": "execute_result"
    }
   ],
   "source": [
    "batch_object.status"
   ]
  },
  {
   "cell_type": "markdown",
   "metadata": {},
   "source": [
    "After the batch job is done, we can download the results."
   ]
  },
  {
   "cell_type": "code",
   "execution_count": 24,
   "metadata": {},
   "outputs": [],
   "source": [
    "result_file_id = batch_object.output_file_id\n",
    "result = client.files.content(result_file_id).content"
   ]
  },
  {
   "cell_type": "code",
   "execution_count": 25,
   "metadata": {},
   "outputs": [],
   "source": [
    "result_file_name = \"openai_text_message_batch_output.jsonl\"\n",
    "\n",
    "with open(result_file_name, 'wb') as file:\n",
    "    file.write(result)"
   ]
  },
  {
   "cell_type": "markdown",
   "metadata": {},
   "source": [
    "Now we can read the results."
   ]
  },
  {
   "cell_type": "code",
   "execution_count": 26,
   "metadata": {},
   "outputs": [],
   "source": [
    "results = []\n",
    "with open(\"openai_text_message_batch_output.jsonl\") as f:\n",
    "    for line in f:\n",
    "        results.append(json.loads(line))"
   ]
  },
  {
   "cell_type": "code",
   "execution_count": 30,
   "metadata": {},
   "outputs": [
    {
     "name": "stdout",
     "output_type": "stream",
     "text": [
      "{\"score\":0.9,\"explanation\":\"The text message expresses a positive sentiment about the service, using the phrase 'very good' which indicates a strong approval. The overall tone is enthusiastic and favorable, leading to a high positive score.\"}\n"
     ]
    }
   ],
   "source": [
    "print(\n",
    "    results[0]['response']['body']['output'][0]['content'][0]['text']\n",
    ")"
   ]
  },
  {
   "cell_type": "code",
   "execution_count": null,
   "metadata": {},
   "outputs": [],
   "source": []
  }
 ],
 "metadata": {
  "kernelspec": {
   "display_name": "Python 3 (ipykernel)",
   "language": "python",
   "name": "python3"
  },
  "language_info": {
   "codemirror_mode": {
    "name": "ipython",
    "version": 3
   },
   "file_extension": ".py",
   "mimetype": "text/x-python",
   "name": "python",
   "nbconvert_exporter": "python",
   "pygments_lexer": "ipython3",
   "version": "3.12.10"
  }
 },
 "nbformat": 4,
 "nbformat_minor": 4
}
